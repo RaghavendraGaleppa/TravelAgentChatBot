{
  "nbformat": 4,
  "nbformat_minor": 0,
  "metadata": {
    "colab": {
      "name": "NewResnetAssignment.ipynb",
      "version": "0.3.2",
      "provenance": [],
      "include_colab_link": true
    },
    "kernelspec": {
      "name": "python3",
      "display_name": "Python 3"
    },
    "accelerator": "GPU"
  },
  "cells": [
    {
      "cell_type": "markdown",
      "metadata": {
        "id": "view-in-github",
        "colab_type": "text"
      },
      "source": [
        "<a href=\"https://colab.research.google.com/github/RaghavendraGaleppa/TravelAgentChatBot/blob/master/NewResnetAssignment.ipynb\" target=\"_parent\"><img src=\"https://colab.research.google.com/assets/colab-badge.svg\" alt=\"Open In Colab\"/></a>"
      ]
    },
    {
      "metadata": {
        "id": "BNJWnS1RJJQs",
        "colab_type": "code",
        "colab": {}
      },
      "cell_type": "code",
      "source": [
        "import torch\n",
        "import numpy as np\n",
        "import torchvision\n",
        "import torch.nn as nn\n",
        "import torch.nn.functional as F\n",
        "import torchvision.transforms as transforms"
      ],
      "execution_count": 0,
      "outputs": []
    },
    {
      "metadata": {
        "id": "pHwrE3gaJS__",
        "colab_type": "code",
        "colab": {}
      },
      "cell_type": "code",
      "source": [
        "class BaseBlock(nn.Module):\n",
        "  expansion = 1\n",
        "  \n",
        "  def __init__(self, input_planes, output_planes, stride=1, dim_change=None):\n",
        "    super(BaseBlock, self).__init__()\n",
        "    \n",
        "    # Convolution Layers for the Base Block\n",
        "    self.conv1 = nn.Conv2d(input_planes, output_planes, stride=stride, kernel_size=3, padding=1)\n",
        "    self.conv2 = nn.Conv2d(output_planes, output_planes, stride=1, kernel_size=3, padding=1)\n",
        "    self.bn = nn.BatchNorm2d(output_planes)\n",
        "    self.dim_change = dim_change\n",
        "    \n",
        "  def forward(self,x):\n",
        "    # Residue\n",
        "    res = x\n",
        "    output = F.relu(self.bn(self.conv1(x)))\n",
        "    output = self.bn(self.conv2(x))\n",
        "    \n",
        "    if self.dim_change is not None:\n",
        "      res = self.dim_change(x)\n",
        "\n",
        "    output += res\n",
        "    output = F.relu(output)\n",
        "    \n",
        "    return output\n",
        "    "
      ],
      "execution_count": 0,
      "outputs": []
    },
    {
      "metadata": {
        "id": "YvsRzZ3fThYG",
        "colab_type": "code",
        "colab": {}
      },
      "cell_type": "code",
      "source": [
        "class Bottleneck(nn.Module):\n",
        "  expansion = 4\n",
        "  \n",
        "  def __init__(self, input_planes, output_planes, stride=1, dim_change=None):\n",
        "    super(Bottleneck,self).__init__()\n",
        "    \n",
        "    self.conv1 = nn.Conv2d(input_planes, output_planes, stride=1, kernel_size=1)\n",
        "    self.conv2 = nn.Conv2d(output_planes, output_planes, kernel_size=3, stride=stride,padding=1)\n",
        "    self.conv3 = nn.Conv2d(output_planes, output_planes*self.expansion, kernel_size=1)\n",
        "    self.bn1 = nn.BatchNorm2d(output_planes)\n",
        "    self.bn2 = nn.BatchNorm2d(output_planes*self.expansion)\n",
        "    self.dim_change = dim_change    \n",
        "    \n",
        "  def forward(self, x):\n",
        "    res = x\n",
        "    \n",
        "    output = F.relu(self.bn1(self.conv1(x)))\n",
        "    output = F.relu(self.bn1(self.conv2(output)))\n",
        "    output = self.bn2(self.conv3(output))\n",
        "    \n",
        "    if self.dim_change is not None:\n",
        "      res = self.dim_change(res)\n",
        "      \n",
        "    output += res\n",
        "    output = F.relu(output)\n",
        "    \n",
        "    return output\n",
        "    "
      ],
      "execution_count": 0,
      "outputs": []
    },
    {
      "metadata": {
        "id": "CIBCrQ_WUVEp",
        "colab_type": "code",
        "colab": {}
      },
      "cell_type": "code",
      "source": [
        "class ResNet(nn.Module):\n",
        "  \n",
        "  def __init__(self, block, num_layers, classes=10):\n",
        "    super(ResNet, self).__init__()\n",
        "    \n",
        "    self.input_planes = 64\n",
        "    self.conv1 = nn.Conv2d(3, 64, kernel_size=3, stride=1, padding=1)\n",
        "    self.bn1 = nn.BatchNorm2d(64)\n",
        "    self.layer1 = self._layer(block,64, num_layers[0], stride=1)\n",
        "    self.layer2 = self._layer(block,128,num_layers[1],stride=2)\n",
        "    self.layer3 = self._layer(block,256, num_layers[2], stride=2)\n",
        "    self.layer4 = self._layer(block,512, num_layers[3], stride=2)\n",
        "    \n",
        "    self.averagePool = nn.AvgPool2d(kernel_size=4, stride=1)\n",
        "    \n",
        "    self.fc = nn.Linear(512*block.expansion,classes)\n",
        "    \n",
        "  def _layer(self, block, planes, num_layers, stride=1):\n",
        "    dim_change=None\n",
        "    if stride != 1 or planes != self.input_planes*block.expansion:\n",
        "      dim_change = nn.Sequential(nn.Conv2d(self.input_planes, planes*block.expansion,kernel_size=1, stride=stride),\n",
        "                                nn.BatchNorm2d(planes*block.expansion))\n",
        "    \n",
        "    netLayers = []\n",
        "    netLayers.append(block(self.input_planes,planes,stride=stride,dim_change=dim_change))\n",
        "    self.input_planes = planes*block.expansion\n",
        "    \n",
        "    for i in range(1,num_layers):\n",
        "      netLayers.append(block(self.input_planes,planes))\n",
        "      self.input_planes = planes*block.expansion\n",
        "      \n",
        "    return nn.Sequential(*netLayers)\n",
        "  \n",
        "  def forward(self, x):\n",
        "    x = F.relu(self.bn1(self.conv1(x)))\n",
        "    \n",
        "    x = self.layer1(x)\n",
        "    x = self.layer2(x)\n",
        "    x = self.layer3(x)\n",
        "    x = self.layer4(x)\n",
        "    \n",
        "    x = self.averagePool(x)\n",
        "    x = x.view(x.size(0),-1)\n",
        "    x = self.fc(x)\n",
        "    \n",
        "    return x"
      ],
      "execution_count": 0,
      "outputs": []
    },
    {
      "metadata": {
        "id": "nPtl67BxCyqh",
        "colab_type": "code",
        "colab": {}
      },
      "cell_type": "code",
      "source": [
        "def test():\n",
        "  transform = transforms.Compose([\n",
        "      transforms.ToTensor(),\n",
        "      transforms.Normalize((0.5,0.5,0.5),(0.5,0.5,0.5))\n",
        "  ])\n",
        "  \n",
        "  train = torchvision.datasets.CIFAR10(root='./.data',train=True,download=True,transform=transform)\n",
        "  trainset = torch.utils.data.DataLoader(train,batch_size=256,shuffle=True)\n",
        "  \n",
        "  test = torchvision.datasets.CIFAR10(root='./.data', train=False, download=True, transform=transform)\n",
        "  testset = torch.utils.data.DataLoader(test, batch_size=128, shuffle=False)\n",
        "  \n",
        "  device = torch.device('cuda:0' if torch.cuda.is_available() else 'cpu')\n",
        "  print(device)\n",
        "  \n",
        "  # Resnet 50\n",
        "  net = ResNet(Bottleneck,[3,4,6,3])\n",
        "  net.to(device)\n",
        "  \n",
        "  costFunc = nn.CrossEntropyLoss()\n",
        "  optimizer = torch.optim.SGD(net.parameters(), lr=0.02,momentum=0.9)\n",
        "  \n",
        "  for epoch in range(100):\n",
        "    closs = 0\n",
        "    for i, batch in enumerate(trainset,0):\n",
        "      data, output = batch\n",
        "      data, output = data.to(device), output.to(device)\n",
        "      \n",
        "      predic = net(data)\n",
        "      loss = costFunc(predic, output)\n",
        "      closs = loss.item()\n",
        "      \n",
        "      optimizer.zero_grad()\n",
        "      loss.backward()\n",
        "      optimizer.step()\n",
        "      \n",
        "      if i%100 == 0:\n",
        "        print('[%d %d] loss: %.4f' % (epoch+1, i+1, closs/1000))\n",
        "        \n",
        "    correctHits = 0\n",
        "    totalHits = 0\n",
        "      \n",
        "    for batches in testset:\n",
        "      data,output = batches\n",
        "      data, output = data.to(device), output.to(device)\n",
        "      \n",
        "      pred = net(data)\n",
        "      _,prediction = torch.max(pred.data, 1)\n",
        "      totalHits = output.size(0)\n",
        "      \n",
        "      correctHits += (prediction==output).sum().item()\n",
        "    print('Accuracy = '+str((correctHits/totalHits)*100))"
      ],
      "execution_count": 0,
      "outputs": []
    },
    {
      "metadata": {
        "id": "IXVTeprMEj8F",
        "colab_type": "code",
        "colab": {
          "base_uri": "https://localhost:8080/",
          "height": 372
        },
        "outputId": "c29be764-cc29-4c56-8cfa-670746f9c126"
      },
      "cell_type": "code",
      "source": [
        "test()"
      ],
      "execution_count": 0,
      "outputs": [
        {
          "output_type": "stream",
          "text": [
            "Files already downloaded and verified\n",
            "Files already downloaded and verified\n",
            "cuda:0\n",
            "[1 1] loss: 0.0024\n",
            "[1 101] loss: 0.0015\n",
            "Accuracy = 32650.0\n",
            "[2 1] loss: 0.0012\n",
            "[2 101] loss: 0.0011\n",
            "Accuracy = 39875.0\n",
            "[3 1] loss: 0.0008\n",
            "[3 101] loss: 0.0009\n",
            "Accuracy = 43131.25\n",
            "[4 1] loss: 0.0007\n",
            "[4 101] loss: 0.0006\n",
            "Accuracy = 47850.0\n",
            "[5 1] loss: 0.0005\n",
            "[5 101] loss: 0.0004\n",
            "Accuracy = 48118.75\n",
            "[6 1] loss: 0.0003\n",
            "[6 101] loss: 0.0003\n"
          ],
          "name": "stdout"
        }
      ]
    },
    {
      "metadata": {
        "id": "5jbPcn3LHG9L",
        "colab_type": "code",
        "colab": {}
      },
      "cell_type": "code",
      "source": [
        ""
      ],
      "execution_count": 0,
      "outputs": []
    }
  ]
}